{
 "cells": [
  {
   "cell_type": "code",
   "execution_count": 1,
   "id": "7f3fe260",
   "metadata": {},
   "outputs": [],
   "source": [
    "import numpy as np\n",
    "import pandas as pd\n",
    "import matplotlib as mp\n",
    "import matplotlib.pyplot as plt\n",
    "import seaborn as sns"
   ]
  },
  {
   "cell_type": "code",
   "execution_count": 2,
   "id": "10c216e8",
   "metadata": {},
   "outputs": [],
   "source": [
    "fm = mp.font_manager.FontManager()         # 한글화\n",
    "plt.rcParams['font.family'] = 'Malgun Gothic'\n",
    "mp.rcParams['axes.unicode_minus'] = False # '-' 에러 방지"
   ]
  },
  {
   "cell_type": "code",
   "execution_count": 3,
   "id": "a3013ea6",
   "metadata": {
    "scrolled": true
   },
   "outputs": [
    {
     "name": "stdout",
     "output_type": "stream",
     "text": [
      "(28575, 179)\n"
     ]
    },
    {
     "data": {
      "text/html": [
       "<div>\n",
       "<style scoped>\n",
       "    .dataframe tbody tr th:only-of-type {\n",
       "        vertical-align: middle;\n",
       "    }\n",
       "\n",
       "    .dataframe tbody tr th {\n",
       "        vertical-align: top;\n",
       "    }\n",
       "\n",
       "    .dataframe thead th {\n",
       "        text-align: right;\n",
       "    }\n",
       "</style>\n",
       "<table border=\"1\" class=\"dataframe\">\n",
       "  <thead>\n",
       "    <tr style=\"text-align: right;\">\n",
       "      <th></th>\n",
       "      <th>ID</th>\n",
       "      <th>DM1</th>\n",
       "      <th>DM2</th>\n",
       "      <th>DM3</th>\n",
       "      <th>DM4</th>\n",
       "      <th>KK1</th>\n",
       "      <th>KK2</th>\n",
       "      <th>WT</th>\n",
       "      <th>Q1A_1</th>\n",
       "      <th>Q1A_2</th>\n",
       "      <th>...</th>\n",
       "      <th>Q20_2</th>\n",
       "      <th>Q20_3</th>\n",
       "      <th>Q20_4</th>\n",
       "      <th>Q20_5</th>\n",
       "      <th>Q20_6</th>\n",
       "      <th>Q20_7</th>\n",
       "      <th>Q20_8</th>\n",
       "      <th>Q20_9</th>\n",
       "      <th>Q20_10</th>\n",
       "      <th>Q21</th>\n",
       "    </tr>\n",
       "  </thead>\n",
       "  <tbody>\n",
       "    <tr>\n",
       "      <th>0</th>\n",
       "      <td>1</td>\n",
       "      <td>3</td>\n",
       "      <td>1</td>\n",
       "      <td>NaN</td>\n",
       "      <td>1</td>\n",
       "      <td>3</td>\n",
       "      <td>NaN</td>\n",
       "      <td>1581.361297</td>\n",
       "      <td>1</td>\n",
       "      <td>1</td>\n",
       "      <td>...</td>\n",
       "      <td>3.0</td>\n",
       "      <td>3.0</td>\n",
       "      <td>2.0</td>\n",
       "      <td>3.0</td>\n",
       "      <td>3.0</td>\n",
       "      <td>2.0</td>\n",
       "      <td>3.0</td>\n",
       "      <td>3.0</td>\n",
       "      <td>3.0</td>\n",
       "      <td>4.0</td>\n",
       "    </tr>\n",
       "    <tr>\n",
       "      <th>1</th>\n",
       "      <td>2</td>\n",
       "      <td>3</td>\n",
       "      <td>2</td>\n",
       "      <td>NaN</td>\n",
       "      <td>1</td>\n",
       "      <td>3</td>\n",
       "      <td>NaN</td>\n",
       "      <td>1506.828478</td>\n",
       "      <td>1</td>\n",
       "      <td>1</td>\n",
       "      <td>...</td>\n",
       "      <td>3.0</td>\n",
       "      <td>3.0</td>\n",
       "      <td>2.0</td>\n",
       "      <td>3.0</td>\n",
       "      <td>2.0</td>\n",
       "      <td>3.0</td>\n",
       "      <td>3.0</td>\n",
       "      <td>2.0</td>\n",
       "      <td>2.0</td>\n",
       "      <td>1.0</td>\n",
       "    </tr>\n",
       "    <tr>\n",
       "      <th>2</th>\n",
       "      <td>3</td>\n",
       "      <td>2</td>\n",
       "      <td>1</td>\n",
       "      <td>3.0</td>\n",
       "      <td>1</td>\n",
       "      <td>2</td>\n",
       "      <td>2.0</td>\n",
       "      <td>1380.620423</td>\n",
       "      <td>1</td>\n",
       "      <td>1</td>\n",
       "      <td>...</td>\n",
       "      <td>NaN</td>\n",
       "      <td>NaN</td>\n",
       "      <td>NaN</td>\n",
       "      <td>NaN</td>\n",
       "      <td>NaN</td>\n",
       "      <td>NaN</td>\n",
       "      <td>NaN</td>\n",
       "      <td>NaN</td>\n",
       "      <td>NaN</td>\n",
       "      <td>NaN</td>\n",
       "    </tr>\n",
       "  </tbody>\n",
       "</table>\n",
       "<p>3 rows × 179 columns</p>\n",
       "</div>"
      ],
      "text/plain": [
       "   ID  DM1  DM2  DM3  DM4  KK1  KK2           WT  Q1A_1  Q1A_2  ...  Q20_2  \\\n",
       "0   1    3    1  NaN    1    3  NaN  1581.361297      1      1  ...    3.0   \n",
       "1   2    3    2  NaN    1    3  NaN  1506.828478      1      1  ...    3.0   \n",
       "2   3    2    1  3.0    1    2  2.0  1380.620423      1      1  ...    NaN   \n",
       "\n",
       "   Q20_3  Q20_4  Q20_5  Q20_6  Q20_7  Q20_8  Q20_9  Q20_10  Q21  \n",
       "0    3.0    2.0    3.0    3.0    2.0    3.0    3.0     3.0  4.0  \n",
       "1    3.0    2.0    3.0    2.0    3.0    3.0    2.0     2.0  1.0  \n",
       "2    NaN    NaN    NaN    NaN    NaN    NaN    NaN     NaN  NaN  \n",
       "\n",
       "[3 rows x 179 columns]"
      ]
     },
     "execution_count": 3,
     "metadata": {},
     "output_type": "execute_result"
    }
   ],
   "source": [
    "df = pd.read_csv('./data/smart_phone_raw_data.csv')\n",
    "print(df.shape)\n",
    "df.head(3)"
   ]
  },
  {
   "cell_type": "code",
   "execution_count": 4,
   "id": "3b1f93e1",
   "metadata": {},
   "outputs": [],
   "source": [
    "media_df = df[['Q16_1','Q16_2', 'Q16_3', 'Q16_4', 'Q16_5', 'Q16_6', 'Q16_7', 'Q16_8', 'Q16_9', 'Q17_1','Q17_2','Q17_3','Q17_4','Q17_5','Q17_6','Q17_7', 'KK1']]"
   ]
  },
  {
   "cell_type": "code",
   "execution_count": 5,
   "id": "f7c0a805",
   "metadata": {},
   "outputs": [],
   "source": [
    "danger_df=dict(list(media_df.groupby(['KK1'])))\n",
    "data=danger_df[1.0]"
   ]
  },
  {
   "cell_type": "markdown",
   "id": "00fd43a7",
   "metadata": {},
   "source": [
    "# 3번 방법"
   ]
  },
  {
   "cell_type": "code",
   "execution_count": 6,
   "id": "2a9b1d4e",
   "metadata": {},
   "outputs": [],
   "source": [
    "data2 = data.drop(['KK1'], axis=1)"
   ]
  },
  {
   "cell_type": "code",
   "execution_count": 7,
   "id": "bfea7c89",
   "metadata": {},
   "outputs": [
    {
     "data": {
      "text/html": [
       "<div>\n",
       "<style scoped>\n",
       "    .dataframe tbody tr th:only-of-type {\n",
       "        vertical-align: middle;\n",
       "    }\n",
       "\n",
       "    .dataframe tbody tr th {\n",
       "        vertical-align: top;\n",
       "    }\n",
       "\n",
       "    .dataframe thead th {\n",
       "        text-align: right;\n",
       "    }\n",
       "</style>\n",
       "<table border=\"1\" class=\"dataframe\">\n",
       "  <thead>\n",
       "    <tr style=\"text-align: right;\">\n",
       "      <th></th>\n",
       "      <th>Q16_1</th>\n",
       "      <th>Q16_2</th>\n",
       "      <th>Q16_3</th>\n",
       "      <th>Q16_4</th>\n",
       "      <th>Q16_5</th>\n",
       "      <th>Q16_6</th>\n",
       "      <th>Q16_7</th>\n",
       "      <th>Q16_8</th>\n",
       "      <th>Q16_9</th>\n",
       "      <th>Q17_1</th>\n",
       "      <th>Q17_2</th>\n",
       "      <th>Q17_3</th>\n",
       "      <th>Q17_4</th>\n",
       "      <th>Q17_5</th>\n",
       "      <th>Q17_6</th>\n",
       "      <th>Q17_7</th>\n",
       "    </tr>\n",
       "  </thead>\n",
       "  <tbody>\n",
       "    <tr>\n",
       "      <th>98</th>\n",
       "      <td>4</td>\n",
       "      <td>2</td>\n",
       "      <td>3</td>\n",
       "      <td>3</td>\n",
       "      <td>2</td>\n",
       "      <td>2</td>\n",
       "      <td>3</td>\n",
       "      <td>3</td>\n",
       "      <td>3</td>\n",
       "      <td>3</td>\n",
       "      <td>2</td>\n",
       "      <td>4</td>\n",
       "      <td>3</td>\n",
       "      <td>2</td>\n",
       "      <td>2</td>\n",
       "      <td>2</td>\n",
       "    </tr>\n",
       "    <tr>\n",
       "      <th>138</th>\n",
       "      <td>1</td>\n",
       "      <td>1</td>\n",
       "      <td>1</td>\n",
       "      <td>1</td>\n",
       "      <td>1</td>\n",
       "      <td>1</td>\n",
       "      <td>3</td>\n",
       "      <td>3</td>\n",
       "      <td>1</td>\n",
       "      <td>3</td>\n",
       "      <td>3</td>\n",
       "      <td>4</td>\n",
       "      <td>3</td>\n",
       "      <td>3</td>\n",
       "      <td>3</td>\n",
       "      <td>3</td>\n",
       "    </tr>\n",
       "    <tr>\n",
       "      <th>139</th>\n",
       "      <td>3</td>\n",
       "      <td>2</td>\n",
       "      <td>1</td>\n",
       "      <td>2</td>\n",
       "      <td>1</td>\n",
       "      <td>1</td>\n",
       "      <td>3</td>\n",
       "      <td>3</td>\n",
       "      <td>1</td>\n",
       "      <td>3</td>\n",
       "      <td>3</td>\n",
       "      <td>4</td>\n",
       "      <td>3</td>\n",
       "      <td>3</td>\n",
       "      <td>3</td>\n",
       "      <td>3</td>\n",
       "    </tr>\n",
       "    <tr>\n",
       "      <th>143</th>\n",
       "      <td>1</td>\n",
       "      <td>1</td>\n",
       "      <td>1</td>\n",
       "      <td>1</td>\n",
       "      <td>1</td>\n",
       "      <td>1</td>\n",
       "      <td>3</td>\n",
       "      <td>3</td>\n",
       "      <td>1</td>\n",
       "      <td>4</td>\n",
       "      <td>4</td>\n",
       "      <td>4</td>\n",
       "      <td>4</td>\n",
       "      <td>4</td>\n",
       "      <td>4</td>\n",
       "      <td>4</td>\n",
       "    </tr>\n",
       "    <tr>\n",
       "      <th>155</th>\n",
       "      <td>1</td>\n",
       "      <td>1</td>\n",
       "      <td>1</td>\n",
       "      <td>1</td>\n",
       "      <td>1</td>\n",
       "      <td>1</td>\n",
       "      <td>3</td>\n",
       "      <td>3</td>\n",
       "      <td>1</td>\n",
       "      <td>3</td>\n",
       "      <td>3</td>\n",
       "      <td>4</td>\n",
       "      <td>4</td>\n",
       "      <td>4</td>\n",
       "      <td>4</td>\n",
       "      <td>4</td>\n",
       "    </tr>\n",
       "    <tr>\n",
       "      <th>...</th>\n",
       "      <td>...</td>\n",
       "      <td>...</td>\n",
       "      <td>...</td>\n",
       "      <td>...</td>\n",
       "      <td>...</td>\n",
       "      <td>...</td>\n",
       "      <td>...</td>\n",
       "      <td>...</td>\n",
       "      <td>...</td>\n",
       "      <td>...</td>\n",
       "      <td>...</td>\n",
       "      <td>...</td>\n",
       "      <td>...</td>\n",
       "      <td>...</td>\n",
       "      <td>...</td>\n",
       "      <td>...</td>\n",
       "    </tr>\n",
       "    <tr>\n",
       "      <th>28392</th>\n",
       "      <td>3</td>\n",
       "      <td>4</td>\n",
       "      <td>4</td>\n",
       "      <td>3</td>\n",
       "      <td>4</td>\n",
       "      <td>4</td>\n",
       "      <td>2</td>\n",
       "      <td>3</td>\n",
       "      <td>3</td>\n",
       "      <td>4</td>\n",
       "      <td>3</td>\n",
       "      <td>3</td>\n",
       "      <td>4</td>\n",
       "      <td>4</td>\n",
       "      <td>2</td>\n",
       "      <td>3</td>\n",
       "    </tr>\n",
       "    <tr>\n",
       "      <th>28440</th>\n",
       "      <td>4</td>\n",
       "      <td>3</td>\n",
       "      <td>3</td>\n",
       "      <td>1</td>\n",
       "      <td>3</td>\n",
       "      <td>2</td>\n",
       "      <td>2</td>\n",
       "      <td>2</td>\n",
       "      <td>1</td>\n",
       "      <td>3</td>\n",
       "      <td>3</td>\n",
       "      <td>1</td>\n",
       "      <td>2</td>\n",
       "      <td>2</td>\n",
       "      <td>2</td>\n",
       "      <td>2</td>\n",
       "    </tr>\n",
       "    <tr>\n",
       "      <th>28457</th>\n",
       "      <td>3</td>\n",
       "      <td>4</td>\n",
       "      <td>3</td>\n",
       "      <td>3</td>\n",
       "      <td>4</td>\n",
       "      <td>4</td>\n",
       "      <td>3</td>\n",
       "      <td>3</td>\n",
       "      <td>3</td>\n",
       "      <td>3</td>\n",
       "      <td>4</td>\n",
       "      <td>3</td>\n",
       "      <td>3</td>\n",
       "      <td>2</td>\n",
       "      <td>3</td>\n",
       "      <td>3</td>\n",
       "    </tr>\n",
       "    <tr>\n",
       "      <th>28458</th>\n",
       "      <td>3</td>\n",
       "      <td>4</td>\n",
       "      <td>4</td>\n",
       "      <td>3</td>\n",
       "      <td>4</td>\n",
       "      <td>4</td>\n",
       "      <td>4</td>\n",
       "      <td>2</td>\n",
       "      <td>3</td>\n",
       "      <td>4</td>\n",
       "      <td>3</td>\n",
       "      <td>3</td>\n",
       "      <td>4</td>\n",
       "      <td>2</td>\n",
       "      <td>3</td>\n",
       "      <td>3</td>\n",
       "    </tr>\n",
       "    <tr>\n",
       "      <th>28540</th>\n",
       "      <td>3</td>\n",
       "      <td>3</td>\n",
       "      <td>3</td>\n",
       "      <td>3</td>\n",
       "      <td>2</td>\n",
       "      <td>3</td>\n",
       "      <td>3</td>\n",
       "      <td>3</td>\n",
       "      <td>3</td>\n",
       "      <td>3</td>\n",
       "      <td>3</td>\n",
       "      <td>3</td>\n",
       "      <td>3</td>\n",
       "      <td>3</td>\n",
       "      <td>3</td>\n",
       "      <td>3</td>\n",
       "    </tr>\n",
       "  </tbody>\n",
       "</table>\n",
       "<p>739 rows × 16 columns</p>\n",
       "</div>"
      ],
      "text/plain": [
       "       Q16_1  Q16_2  Q16_3  Q16_4  Q16_5  Q16_6  Q16_7  Q16_8  Q16_9  Q17_1  \\\n",
       "98         4      2      3      3      2      2      3      3      3      3   \n",
       "138        1      1      1      1      1      1      3      3      1      3   \n",
       "139        3      2      1      2      1      1      3      3      1      3   \n",
       "143        1      1      1      1      1      1      3      3      1      4   \n",
       "155        1      1      1      1      1      1      3      3      1      3   \n",
       "...      ...    ...    ...    ...    ...    ...    ...    ...    ...    ...   \n",
       "28392      3      4      4      3      4      4      2      3      3      4   \n",
       "28440      4      3      3      1      3      2      2      2      1      3   \n",
       "28457      3      4      3      3      4      4      3      3      3      3   \n",
       "28458      3      4      4      3      4      4      4      2      3      4   \n",
       "28540      3      3      3      3      2      3      3      3      3      3   \n",
       "\n",
       "       Q17_2  Q17_3  Q17_4  Q17_5  Q17_6  Q17_7  \n",
       "98         2      4      3      2      2      2  \n",
       "138        3      4      3      3      3      3  \n",
       "139        3      4      3      3      3      3  \n",
       "143        4      4      4      4      4      4  \n",
       "155        3      4      4      4      4      4  \n",
       "...      ...    ...    ...    ...    ...    ...  \n",
       "28392      3      3      4      4      2      3  \n",
       "28440      3      1      2      2      2      2  \n",
       "28457      4      3      3      2      3      3  \n",
       "28458      3      3      4      2      3      3  \n",
       "28540      3      3      3      3      3      3  \n",
       "\n",
       "[739 rows x 16 columns]"
      ]
     },
     "execution_count": 7,
     "metadata": {},
     "output_type": "execute_result"
    }
   ],
   "source": [
    "data2"
   ]
  },
  {
   "cell_type": "markdown",
   "id": "44387084",
   "metadata": {},
   "source": [
    "### 요인성 평가\n",
    "- 데이터 세트에서 요인을 찾을 수 있는지 확인\n",
    "\n",
    "1) bartlett의 테스트\n",
    "- p 값이 0.05 미만이면 적합한 데이터"
   ]
  },
  {
   "cell_type": "code",
   "execution_count": 10,
   "id": "c6c7bbe1",
   "metadata": {},
   "outputs": [
    {
     "name": "stdout",
     "output_type": "stream",
     "text": [
      "Collecting factor_analyzer\n",
      "  Downloading factor_analyzer-0.3.2.tar.gz (40 kB)\n",
      "Requirement already satisfied: pandas in c:\\users\\user\\anaconda3\\lib\\site-packages (from factor_analyzer) (1.2.4)\n",
      "Requirement already satisfied: scipy in c:\\users\\user\\anaconda3\\lib\\site-packages (from factor_analyzer) (1.6.2)\n",
      "Requirement already satisfied: numpy in c:\\users\\user\\anaconda3\\lib\\site-packages (from factor_analyzer) (1.20.1)\n",
      "Requirement already satisfied: scikit-learn in c:\\users\\user\\anaconda3\\lib\\site-packages (from factor_analyzer) (0.24.1)\n",
      "Requirement already satisfied: python-dateutil>=2.7.3 in c:\\users\\user\\anaconda3\\lib\\site-packages (from pandas->factor_analyzer) (2.8.1)\n",
      "Requirement already satisfied: pytz>=2017.3 in c:\\users\\user\\anaconda3\\lib\\site-packages (from pandas->factor_analyzer) (2021.1)\n",
      "Requirement already satisfied: six>=1.5 in c:\\users\\user\\anaconda3\\lib\\site-packages (from python-dateutil>=2.7.3->pandas->factor_analyzer) (1.15.0)\n",
      "Requirement already satisfied: joblib>=0.11 in c:\\users\\user\\anaconda3\\lib\\site-packages (from scikit-learn->factor_analyzer) (1.0.1)\n",
      "Requirement already satisfied: threadpoolctl>=2.0.0 in c:\\users\\user\\anaconda3\\lib\\site-packages (from scikit-learn->factor_analyzer) (2.1.0)\n",
      "Building wheels for collected packages: factor-analyzer\n",
      "  Building wheel for factor-analyzer (setup.py): started\n",
      "  Building wheel for factor-analyzer (setup.py): finished with status 'done'\n",
      "  Created wheel for factor-analyzer: filename=factor_analyzer-0.3.2-py3-none-any.whl size=40380 sha256=128e69c3b43f32d3e1fe5b59d03d758eb75ed21c506cf4dff79a25a872436729\n",
      "  Stored in directory: c:\\users\\user\\appdata\\local\\pip\\cache\\wheels\\b1\\d4\\b5\\9da0e0e81266e87f5e85068f031077c8a2ae0eedf76ea1d294\n",
      "Successfully built factor-analyzer\n",
      "Installing collected packages: factor-analyzer\n",
      "Successfully installed factor-analyzer-0.3.2\n"
     ]
    }
   ],
   "source": [
    "!pip install factor_analyzer"
   ]
  },
  {
   "cell_type": "code",
   "execution_count": 11,
   "id": "2abdd232",
   "metadata": {
    "scrolled": true
   },
   "outputs": [],
   "source": [
    "from factor_analyzer import FactorAnalyzer"
   ]
  },
  {
   "cell_type": "code",
   "execution_count": 12,
   "id": "4b1e9710",
   "metadata": {},
   "outputs": [
    {
     "data": {
      "text/plain": [
       "(4320.304019774707, 0.0)"
      ]
     },
     "execution_count": 12,
     "metadata": {},
     "output_type": "execute_result"
    }
   ],
   "source": [
    "from factor_analyzer.factor_analyzer import calculate_bartlett_sphericity\n",
    "chi, p = calculate_bartlett_sphericity(data2)\n",
    "chi, p"
   ]
  },
  {
   "cell_type": "markdown",
   "id": "383445cc",
   "metadata": {},
   "source": [
    "2) KMO 검정\n",
    "- 0.6미만이면 부적절, 0.8이상이면 우수"
   ]
  },
  {
   "cell_type": "code",
   "execution_count": 13,
   "id": "1cf2bb85",
   "metadata": {},
   "outputs": [
    {
     "data": {
      "text/plain": [
       "0.90445273010676"
      ]
     },
     "execution_count": 13,
     "metadata": {},
     "output_type": "execute_result"
    }
   ],
   "source": [
    "from factor_analyzer.factor_analyzer import calculate_kmo\n",
    "kmo1,kmo2 = calculate_kmo(data2)\n",
    "kmo2"
   ]
  },
  {
   "cell_type": "code",
   "execution_count": 14,
   "id": "aa68e3bc",
   "metadata": {},
   "outputs": [
    {
     "data": {
      "text/plain": [
       "array([5.28412579, 2.77308716, 1.05639584, 0.79512165, 0.68829837,\n",
       "       0.63829834, 0.61282003, 0.58324075, 0.52755074, 0.51117773,\n",
       "       0.49782752, 0.47424017, 0.42142186, 0.41648509, 0.37969062,\n",
       "       0.34021835])"
      ]
     },
     "execution_count": 14,
     "metadata": {},
     "output_type": "execute_result"
    }
   ],
   "source": [
    "fa = FactorAnalyzer(n_factors=3, rotation=None)\n",
    "fa.fit(data2)\n",
    "\n",
    "# Eigen값 확인\n",
    "ev, v = fa.get_eigenvalues()\n",
    "ev"
   ]
  },
  {
   "cell_type": "markdown",
   "id": "a738325f",
   "metadata": {},
   "source": [
    "###  Eigen값 확인\n",
    "- Eigen값이 1이상일때 까지 or 그래프 기울기가 완만해지기 전까지 나누어야 데이터 결함을 최소화\n",
    "- 3개로 나누어주는 것이 최선"
   ]
  },
  {
   "cell_type": "code",
   "execution_count": 15,
   "id": "d1a56d23",
   "metadata": {
    "scrolled": true
   },
   "outputs": [
    {
     "data": {
      "image/png": "[encoded data removed]",
      "text/plain": [
       "<Figure size 432x288 with 1 Axes>"
      ]
     },
     "metadata": {
      "needs_background": "light"
     },
     "output_type": "display_data"
    }
   ],
   "source": [
    "plt.scatter(range(1,data2.shape[1]+1),ev)\n",
    "plt.plot(range(1,data2.shape[1]+1),ev)\n",
    "plt.title('Scree Plot')\n",
    "plt.xlabel('Factors')\n",
    "plt.ylabel('Eigenvalue')\n",
    "plt.grid()\n",
    "plt.show()"
   ]
  },
  {
   "cell_type": "code",
   "execution_count": 16,
   "id": "359ae0d8",
   "metadata": {},
   "outputs": [
    {
     "data": {
      "text/html": [
       "<div>\n",
       "<style scoped>\n",
       "    .dataframe tbody tr th:only-of-type {\n",
       "        vertical-align: middle;\n",
       "    }\n",
       "\n",
       "    .dataframe tbody tr th {\n",
       "        vertical-align: top;\n",
       "    }\n",
       "\n",
       "    .dataframe thead th {\n",
       "        text-align: right;\n",
       "    }\n",
       "</style>\n",
       "<table border=\"1\" class=\"dataframe\">\n",
       "  <thead>\n",
       "    <tr style=\"text-align: right;\">\n",
       "      <th></th>\n",
       "      <th>0</th>\n",
       "      <th>1</th>\n",
       "      <th>2</th>\n",
       "    </tr>\n",
       "  </thead>\n",
       "  <tbody>\n",
       "    <tr>\n",
       "      <th>Q16_1</th>\n",
       "      <td>0.693440</td>\n",
       "      <td>-0.013448</td>\n",
       "      <td>0.229945</td>\n",
       "    </tr>\n",
       "    <tr>\n",
       "      <th>Q16_2</th>\n",
       "      <td>0.728564</td>\n",
       "      <td>0.068521</td>\n",
       "      <td>0.219779</td>\n",
       "    </tr>\n",
       "    <tr>\n",
       "      <th>Q16_3</th>\n",
       "      <td>0.706355</td>\n",
       "      <td>0.085299</td>\n",
       "      <td>0.044396</td>\n",
       "    </tr>\n",
       "    <tr>\n",
       "      <th>Q16_4</th>\n",
       "      <td>0.680761</td>\n",
       "      <td>0.141884</td>\n",
       "      <td>-0.097505</td>\n",
       "    </tr>\n",
       "    <tr>\n",
       "      <th>Q16_5</th>\n",
       "      <td>0.751169</td>\n",
       "      <td>0.122194</td>\n",
       "      <td>0.050108</td>\n",
       "    </tr>\n",
       "    <tr>\n",
       "      <th>Q16_6</th>\n",
       "      <td>0.655843</td>\n",
       "      <td>0.175658</td>\n",
       "      <td>0.044293</td>\n",
       "    </tr>\n",
       "    <tr>\n",
       "      <th>Q16_7</th>\n",
       "      <td>0.122627</td>\n",
       "      <td>0.329490</td>\n",
       "      <td>0.575938</td>\n",
       "    </tr>\n",
       "    <tr>\n",
       "      <th>Q16_8</th>\n",
       "      <td>0.137382</td>\n",
       "      <td>0.362570</td>\n",
       "      <td>0.549948</td>\n",
       "    </tr>\n",
       "    <tr>\n",
       "      <th>Q16_9</th>\n",
       "      <td>0.304142</td>\n",
       "      <td>0.398016</td>\n",
       "      <td>0.247922</td>\n",
       "    </tr>\n",
       "    <tr>\n",
       "      <th>Q17_1</th>\n",
       "      <td>0.059019</td>\n",
       "      <td>0.463683</td>\n",
       "      <td>0.607234</td>\n",
       "    </tr>\n",
       "    <tr>\n",
       "      <th>Q17_2</th>\n",
       "      <td>0.044215</td>\n",
       "      <td>0.547404</td>\n",
       "      <td>0.264987</td>\n",
       "    </tr>\n",
       "    <tr>\n",
       "      <th>Q17_3</th>\n",
       "      <td>0.011700</td>\n",
       "      <td>0.539021</td>\n",
       "      <td>0.280205</td>\n",
       "    </tr>\n",
       "    <tr>\n",
       "      <th>Q17_4</th>\n",
       "      <td>0.157294</td>\n",
       "      <td>0.603734</td>\n",
       "      <td>0.162818</td>\n",
       "    </tr>\n",
       "    <tr>\n",
       "      <th>Q17_5</th>\n",
       "      <td>0.124405</td>\n",
       "      <td>0.602355</td>\n",
       "      <td>0.092473</td>\n",
       "    </tr>\n",
       "    <tr>\n",
       "      <th>Q17_6</th>\n",
       "      <td>0.108832</td>\n",
       "      <td>0.683180</td>\n",
       "      <td>0.176892</td>\n",
       "    </tr>\n",
       "    <tr>\n",
       "      <th>Q17_7</th>\n",
       "      <td>0.073986</td>\n",
       "      <td>0.727096</td>\n",
       "      <td>0.151024</td>\n",
       "    </tr>\n",
       "  </tbody>\n",
       "</table>\n",
       "</div>"
      ],
      "text/plain": [
       "              0         1         2\n",
       "Q16_1  0.693440 -0.013448  0.229945\n",
       "Q16_2  0.728564  0.068521  0.219779\n",
       "Q16_3  0.706355  0.085299  0.044396\n",
       "Q16_4  0.680761  0.141884 -0.097505\n",
       "Q16_5  0.751169  0.122194  0.050108\n",
       "Q16_6  0.655843  0.175658  0.044293\n",
       "Q16_7  0.122627  0.329490  0.575938\n",
       "Q16_8  0.137382  0.362570  0.549948\n",
       "Q16_9  0.304142  0.398016  0.247922\n",
       "Q17_1  0.059019  0.463683  0.607234\n",
       "Q17_2  0.044215  0.547404  0.264987\n",
       "Q17_3  0.011700  0.539021  0.280205\n",
       "Q17_4  0.157294  0.603734  0.162818\n",
       "Q17_5  0.124405  0.602355  0.092473\n",
       "Q17_6  0.108832  0.683180  0.176892\n",
       "Q17_7  0.073986  0.727096  0.151024"
      ]
     },
     "execution_count": 16,
     "metadata": {},
     "output_type": "execute_result"
    }
   ],
   "source": [
    "fa = FactorAnalyzer(n_factors=3, rotation=\"varimax\") \n",
    "fa.fit(data2)\n",
    "efa_result= pd.DataFrame(fa.loadings_, index=data2.columns)\n",
    "efa_result"
   ]
  },
  {
   "cell_type": "code",
   "execution_count": 17,
   "id": "68cb20cd",
   "metadata": {},
   "outputs": [
    {
     "data": {
      "text/plain": [
       "<AxesSubplot:>"
      ]
     },
     "execution_count": 17,
     "metadata": {},
     "output_type": "execute_result"
    },
    {
     "data": {
      "image/png": "[encoded data removed]",
      "text/plain": [
       "<Figure size 432x720 with 2 Axes>"
      ]
     },
     "metadata": {
      "needs_background": "light"
     },
     "output_type": "display_data"
    }
   ],
   "source": [
    "plt.figure(figsize=(6,10))\n",
    "sns.heatmap(efa_result, cmap=\"Blues\", annot=True, fmt='.2f')"
   ]
  },
  {
   "cell_type": "markdown",
   "id": "d27f056d",
   "metadata": {},
   "source": [
    "### 신뢰도 분석\n",
    "- 설문조사시 비슷한 문항에 대해 반대의 응답을 하지는 않았는지 확인\n",
    "- 크론바흐 알파 계수가 0.7 이상이면 신뢰할만하다고 판단"
   ]
  },
  {
   "cell_type": "code",
   "execution_count": 19,
   "id": "1f7d1674",
   "metadata": {},
   "outputs": [],
   "source": [
    "def CronbachAlpha(itemscores):\n",
    "    itemscores = np.asarray(itemscores)\n",
    "    itemvars = itemscores.var(axis=0, ddof=1)\n",
    "    tscores = itemscores.sum(axis=1)\n",
    "    nitems = itemscores.shape[1]\n",
    "    return (nitems / (nitems-1)) * (1 - (itemvars.sum() / tscores.var(ddof=1)))"
   ]
  },
  {
   "cell_type": "code",
   "execution_count": 20,
   "id": "22be2231",
   "metadata": {},
   "outputs": [],
   "source": [
    "factors_items_dict = {'digital':['Q16_1','Q16_2', 'Q16_3', 'Q16_4', 'Q16_5', 'Q16_6'],\n",
    "                     'family':['Q16_7', 'Q16_8'],\n",
    "                     'life':['Q17_2','Q17_3','Q17_4','Q17_5','Q17_6','Q17_7']}"
   ]
  },
  {
   "cell_type": "code",
   "execution_count": 21,
   "id": "5bceef03",
   "metadata": {
    "scrolled": false
   },
   "outputs": [
    {
     "name": "stdout",
     "output_type": "stream",
     "text": [
      "digital\n",
      "0.8592369219956965\n",
      "\n",
      "family\n",
      "0.6402205842161628\n",
      "\n",
      "life\n",
      "0.8137537736483537\n",
      "\n"
     ]
    }
   ],
   "source": [
    "for key, value in factors_items_dict.items():\n",
    "    print(key)\n",
    "    print(CronbachAlpha(data2[value]))\n",
    "    print()"
   ]
  },
  {
   "cell_type": "markdown",
   "id": "0f64a6f1",
   "metadata": {},
   "source": [
    "- family는 신뢰도도 낮고 요인 분리가 제대로 수행되지 않으므로 제거"
   ]
  },
  {
   "cell_type": "code",
   "execution_count": 37,
   "id": "813935f2",
   "metadata": {},
   "outputs": [],
   "source": [
    "data3 = data.drop(['Q16_9','Q17_1','KK1'], axis=1)"
   ]
  },
  {
   "cell_type": "code",
   "execution_count": 38,
   "id": "1f9c72b8",
   "metadata": {},
   "outputs": [
    {
     "data": {
      "text/html": [
       "<div>\n",
       "<style scoped>\n",
       "    .dataframe tbody tr th:only-of-type {\n",
       "        vertical-align: middle;\n",
       "    }\n",
       "\n",
       "    .dataframe tbody tr th {\n",
       "        vertical-align: top;\n",
       "    }\n",
       "\n",
       "    .dataframe thead th {\n",
       "        text-align: right;\n",
       "    }\n",
       "</style>\n",
       "<table border=\"1\" class=\"dataframe\">\n",
       "  <thead>\n",
       "    <tr style=\"text-align: right;\">\n",
       "      <th></th>\n",
       "      <th>Q16_1</th>\n",
       "      <th>Q16_2</th>\n",
       "      <th>Q16_3</th>\n",
       "      <th>Q16_4</th>\n",
       "      <th>Q16_5</th>\n",
       "      <th>Q16_6</th>\n",
       "      <th>Q16_7</th>\n",
       "      <th>Q16_8</th>\n",
       "      <th>Q17_2</th>\n",
       "      <th>Q17_3</th>\n",
       "      <th>Q17_4</th>\n",
       "      <th>Q17_5</th>\n",
       "      <th>Q17_6</th>\n",
       "      <th>Q17_7</th>\n",
       "    </tr>\n",
       "  </thead>\n",
       "  <tbody>\n",
       "    <tr>\n",
       "      <th>98</th>\n",
       "      <td>4</td>\n",
       "      <td>2</td>\n",
       "      <td>3</td>\n",
       "      <td>3</td>\n",
       "      <td>2</td>\n",
       "      <td>2</td>\n",
       "      <td>3</td>\n",
       "      <td>3</td>\n",
       "      <td>2</td>\n",
       "      <td>4</td>\n",
       "      <td>3</td>\n",
       "      <td>2</td>\n",
       "      <td>2</td>\n",
       "      <td>2</td>\n",
       "    </tr>\n",
       "    <tr>\n",
       "      <th>138</th>\n",
       "      <td>1</td>\n",
       "      <td>1</td>\n",
       "      <td>1</td>\n",
       "      <td>1</td>\n",
       "      <td>1</td>\n",
       "      <td>1</td>\n",
       "      <td>3</td>\n",
       "      <td>3</td>\n",
       "      <td>3</td>\n",
       "      <td>4</td>\n",
       "      <td>3</td>\n",
       "      <td>3</td>\n",
       "      <td>3</td>\n",
       "      <td>3</td>\n",
       "    </tr>\n",
       "    <tr>\n",
       "      <th>139</th>\n",
       "      <td>3</td>\n",
       "      <td>2</td>\n",
       "      <td>1</td>\n",
       "      <td>2</td>\n",
       "      <td>1</td>\n",
       "      <td>1</td>\n",
       "      <td>3</td>\n",
       "      <td>3</td>\n",
       "      <td>3</td>\n",
       "      <td>4</td>\n",
       "      <td>3</td>\n",
       "      <td>3</td>\n",
       "      <td>3</td>\n",
       "      <td>3</td>\n",
       "    </tr>\n",
       "    <tr>\n",
       "      <th>143</th>\n",
       "      <td>1</td>\n",
       "      <td>1</td>\n",
       "      <td>1</td>\n",
       "      <td>1</td>\n",
       "      <td>1</td>\n",
       "      <td>1</td>\n",
       "      <td>3</td>\n",
       "      <td>3</td>\n",
       "      <td>4</td>\n",
       "      <td>4</td>\n",
       "      <td>4</td>\n",
       "      <td>4</td>\n",
       "      <td>4</td>\n",
       "      <td>4</td>\n",
       "    </tr>\n",
       "    <tr>\n",
       "      <th>155</th>\n",
       "      <td>1</td>\n",
       "      <td>1</td>\n",
       "      <td>1</td>\n",
       "      <td>1</td>\n",
       "      <td>1</td>\n",
       "      <td>1</td>\n",
       "      <td>3</td>\n",
       "      <td>3</td>\n",
       "      <td>3</td>\n",
       "      <td>4</td>\n",
       "      <td>4</td>\n",
       "      <td>4</td>\n",
       "      <td>4</td>\n",
       "      <td>4</td>\n",
       "    </tr>\n",
       "    <tr>\n",
       "      <th>...</th>\n",
       "      <td>...</td>\n",
       "      <td>...</td>\n",
       "      <td>...</td>\n",
       "      <td>...</td>\n",
       "      <td>...</td>\n",
       "      <td>...</td>\n",
       "      <td>...</td>\n",
       "      <td>...</td>\n",
       "      <td>...</td>\n",
       "      <td>...</td>\n",
       "      <td>...</td>\n",
       "      <td>...</td>\n",
       "      <td>...</td>\n",
       "      <td>...</td>\n",
       "    </tr>\n",
       "    <tr>\n",
       "      <th>28392</th>\n",
       "      <td>3</td>\n",
       "      <td>4</td>\n",
       "      <td>4</td>\n",
       "      <td>3</td>\n",
       "      <td>4</td>\n",
       "      <td>4</td>\n",
       "      <td>2</td>\n",
       "      <td>3</td>\n",
       "      <td>3</td>\n",
       "      <td>3</td>\n",
       "      <td>4</td>\n",
       "      <td>4</td>\n",
       "      <td>2</td>\n",
       "      <td>3</td>\n",
       "    </tr>\n",
       "    <tr>\n",
       "      <th>28440</th>\n",
       "      <td>4</td>\n",
       "      <td>3</td>\n",
       "      <td>3</td>\n",
       "      <td>1</td>\n",
       "      <td>3</td>\n",
       "      <td>2</td>\n",
       "      <td>2</td>\n",
       "      <td>2</td>\n",
       "      <td>3</td>\n",
       "      <td>1</td>\n",
       "      <td>2</td>\n",
       "      <td>2</td>\n",
       "      <td>2</td>\n",
       "      <td>2</td>\n",
       "    </tr>\n",
       "    <tr>\n",
       "      <th>28457</th>\n",
       "      <td>3</td>\n",
       "      <td>4</td>\n",
       "      <td>3</td>\n",
       "      <td>3</td>\n",
       "      <td>4</td>\n",
       "      <td>4</td>\n",
       "      <td>3</td>\n",
       "      <td>3</td>\n",
       "      <td>4</td>\n",
       "      <td>3</td>\n",
       "      <td>3</td>\n",
       "      <td>2</td>\n",
       "      <td>3</td>\n",
       "      <td>3</td>\n",
       "    </tr>\n",
       "    <tr>\n",
       "      <th>28458</th>\n",
       "      <td>3</td>\n",
       "      <td>4</td>\n",
       "      <td>4</td>\n",
       "      <td>3</td>\n",
       "      <td>4</td>\n",
       "      <td>4</td>\n",
       "      <td>4</td>\n",
       "      <td>2</td>\n",
       "      <td>3</td>\n",
       "      <td>3</td>\n",
       "      <td>4</td>\n",
       "      <td>2</td>\n",
       "      <td>3</td>\n",
       "      <td>3</td>\n",
       "    </tr>\n",
       "    <tr>\n",
       "      <th>28540</th>\n",
       "      <td>3</td>\n",
       "      <td>3</td>\n",
       "      <td>3</td>\n",
       "      <td>3</td>\n",
       "      <td>2</td>\n",
       "      <td>3</td>\n",
       "      <td>3</td>\n",
       "      <td>3</td>\n",
       "      <td>3</td>\n",
       "      <td>3</td>\n",
       "      <td>3</td>\n",
       "      <td>3</td>\n",
       "      <td>3</td>\n",
       "      <td>3</td>\n",
       "    </tr>\n",
       "  </tbody>\n",
       "</table>\n",
       "<p>739 rows × 14 columns</p>\n",
       "</div>"
      ],
      "text/plain": [
       "       Q16_1  Q16_2  Q16_3  Q16_4  Q16_5  Q16_6  Q16_7  Q16_8  Q17_2  Q17_3  \\\n",
       "98         4      2      3      3      2      2      3      3      2      4   \n",
       "138        1      1      1      1      1      1      3      3      3      4   \n",
       "139        3      2      1      2      1      1      3      3      3      4   \n",
       "143        1      1      1      1      1      1      3      3      4      4   \n",
       "155        1      1      1      1      1      1      3      3      3      4   \n",
       "...      ...    ...    ...    ...    ...    ...    ...    ...    ...    ...   \n",
       "28392      3      4      4      3      4      4      2      3      3      3   \n",
       "28440      4      3      3      1      3      2      2      2      3      1   \n",
       "28457      3      4      3      3      4      4      3      3      4      3   \n",
       "28458      3      4      4      3      4      4      4      2      3      3   \n",
       "28540      3      3      3      3      2      3      3      3      3      3   \n",
       "\n",
       "       Q17_4  Q17_5  Q17_6  Q17_7  \n",
       "98         3      2      2      2  \n",
       "138        3      3      3      3  \n",
       "139        3      3      3      3  \n",
       "143        4      4      4      4  \n",
       "155        4      4      4      4  \n",
       "...      ...    ...    ...    ...  \n",
       "28392      4      4      2      3  \n",
       "28440      2      2      2      2  \n",
       "28457      3      2      3      3  \n",
       "28458      4      2      3      3  \n",
       "28540      3      3      3      3  \n",
       "\n",
       "[739 rows x 14 columns]"
      ]
     },
     "execution_count": 38,
     "metadata": {},
     "output_type": "execute_result"
    }
   ],
   "source": [
    "data3"
   ]
  },
  {
   "cell_type": "code",
   "execution_count": 39,
   "id": "d4f8f4c8",
   "metadata": {},
   "outputs": [
    {
     "data": {
      "text/plain": [
       "(3604.088960883781, 0.0)"
      ]
     },
     "execution_count": 39,
     "metadata": {},
     "output_type": "execute_result"
    }
   ],
   "source": [
    "from factor_analyzer.factor_analyzer import calculate_bartlett_sphericity\n",
    "chi, p = calculate_bartlett_sphericity(data3)\n",
    "chi, p"
   ]
  },
  {
   "cell_type": "code",
   "execution_count": 40,
   "id": "c5cb3b28",
   "metadata": {},
   "outputs": [
    {
     "data": {
      "text/plain": [
       "0.8877938822603308"
      ]
     },
     "execution_count": 40,
     "metadata": {},
     "output_type": "execute_result"
    }
   ],
   "source": [
    "from factor_analyzer.factor_analyzer import calculate_kmo\n",
    "kmo1,kmo2 = calculate_kmo(data3)\n",
    "kmo2"
   ]
  },
  {
   "cell_type": "code",
   "execution_count": 41,
   "id": "5e4c510a",
   "metadata": {},
   "outputs": [
    {
     "data": {
      "text/plain": [
       "array([4.63126395, 2.63764196, 0.9748492 , 0.70886543, 0.67075524,\n",
       "       0.60790358, 0.58254988, 0.56178816, 0.50888889, 0.50198447,\n",
       "       0.46671896, 0.41915092, 0.37981624, 0.34782312])"
      ]
     },
     "execution_count": 41,
     "metadata": {},
     "output_type": "execute_result"
    }
   ],
   "source": [
    "fa = FactorAnalyzer(n_factors=2, rotation=None)\n",
    "fa.fit(data3)\n",
    "\n",
    "# Eigen값 확인\n",
    "ev, v = fa.get_eigenvalues()\n",
    "ev"
   ]
  },
  {
   "cell_type": "code",
   "execution_count": 42,
   "id": "64488a47",
   "metadata": {},
   "outputs": [
    {
     "data": {
      "image/png": "[encoded data removed]",
      "text/plain": [
       "<Figure size 432x288 with 1 Axes>"
      ]
     },
     "metadata": {
      "needs_background": "light"
     },
     "output_type": "display_data"
    }
   ],
   "source": [
    "plt.scatter(range(1,data3.shape[1]+1),ev)\n",
    "plt.plot(range(1,data3.shape[1]+1),ev)\n",
    "plt.title('Scree Plot')\n",
    "plt.xlabel('Factors')\n",
    "plt.ylabel('Eigenvalue')\n",
    "plt.grid()\n",
    "plt.show()"
   ]
  },
  {
   "cell_type": "code",
   "execution_count": 43,
   "id": "aabf85b2",
   "metadata": {},
   "outputs": [
    {
     "data": {
      "text/html": [
       "<div>\n",
       "<style scoped>\n",
       "    .dataframe tbody tr th:only-of-type {\n",
       "        vertical-align: middle;\n",
       "    }\n",
       "\n",
       "    .dataframe tbody tr th {\n",
       "        vertical-align: top;\n",
       "    }\n",
       "\n",
       "    .dataframe thead th {\n",
       "        text-align: right;\n",
       "    }\n",
       "</style>\n",
       "<table border=\"1\" class=\"dataframe\">\n",
       "  <thead>\n",
       "    <tr style=\"text-align: right;\">\n",
       "      <th></th>\n",
       "      <th>0</th>\n",
       "      <th>1</th>\n",
       "      <th>2</th>\n",
       "    </tr>\n",
       "  </thead>\n",
       "  <tbody>\n",
       "    <tr>\n",
       "      <th>Q16_1</th>\n",
       "      <td>0.695630</td>\n",
       "      <td>-0.000833</td>\n",
       "      <td>0.227114</td>\n",
       "    </tr>\n",
       "    <tr>\n",
       "      <th>Q16_2</th>\n",
       "      <td>0.730925</td>\n",
       "      <td>0.080138</td>\n",
       "      <td>0.215174</td>\n",
       "    </tr>\n",
       "    <tr>\n",
       "      <th>Q16_3</th>\n",
       "      <td>0.705632</td>\n",
       "      <td>0.079504</td>\n",
       "      <td>0.052911</td>\n",
       "    </tr>\n",
       "    <tr>\n",
       "      <th>Q16_4</th>\n",
       "      <td>0.674634</td>\n",
       "      <td>0.120615</td>\n",
       "      <td>-0.084527</td>\n",
       "    </tr>\n",
       "    <tr>\n",
       "      <th>Q16_5</th>\n",
       "      <td>0.757834</td>\n",
       "      <td>0.120584</td>\n",
       "      <td>0.025134</td>\n",
       "    </tr>\n",
       "    <tr>\n",
       "      <th>Q16_6</th>\n",
       "      <td>0.656580</td>\n",
       "      <td>0.170674</td>\n",
       "      <td>0.021599</td>\n",
       "    </tr>\n",
       "    <tr>\n",
       "      <th>Q16_7</th>\n",
       "      <td>0.123893</td>\n",
       "      <td>0.371830</td>\n",
       "      <td>0.541653</td>\n",
       "    </tr>\n",
       "    <tr>\n",
       "      <th>Q16_8</th>\n",
       "      <td>0.136771</td>\n",
       "      <td>0.398040</td>\n",
       "      <td>0.537427</td>\n",
       "    </tr>\n",
       "    <tr>\n",
       "      <th>Q17_2</th>\n",
       "      <td>0.050905</td>\n",
       "      <td>0.576065</td>\n",
       "      <td>0.248691</td>\n",
       "    </tr>\n",
       "    <tr>\n",
       "      <th>Q17_3</th>\n",
       "      <td>0.022099</td>\n",
       "      <td>0.564353</td>\n",
       "      <td>0.218398</td>\n",
       "    </tr>\n",
       "    <tr>\n",
       "      <th>Q17_4</th>\n",
       "      <td>0.165563</td>\n",
       "      <td>0.610388</td>\n",
       "      <td>0.086323</td>\n",
       "    </tr>\n",
       "    <tr>\n",
       "      <th>Q17_5</th>\n",
       "      <td>0.128589</td>\n",
       "      <td>0.604916</td>\n",
       "      <td>0.065546</td>\n",
       "    </tr>\n",
       "    <tr>\n",
       "      <th>Q17_6</th>\n",
       "      <td>0.115006</td>\n",
       "      <td>0.688871</td>\n",
       "      <td>0.124677</td>\n",
       "    </tr>\n",
       "    <tr>\n",
       "      <th>Q17_7</th>\n",
       "      <td>0.082663</td>\n",
       "      <td>0.736568</td>\n",
       "      <td>0.085791</td>\n",
       "    </tr>\n",
       "  </tbody>\n",
       "</table>\n",
       "</div>"
      ],
      "text/plain": [
       "              0         1         2\n",
       "Q16_1  0.695630 -0.000833  0.227114\n",
       "Q16_2  0.730925  0.080138  0.215174\n",
       "Q16_3  0.705632  0.079504  0.052911\n",
       "Q16_4  0.674634  0.120615 -0.084527\n",
       "Q16_5  0.757834  0.120584  0.025134\n",
       "Q16_6  0.656580  0.170674  0.021599\n",
       "Q16_7  0.123893  0.371830  0.541653\n",
       "Q16_8  0.136771  0.398040  0.537427\n",
       "Q17_2  0.050905  0.576065  0.248691\n",
       "Q17_3  0.022099  0.564353  0.218398\n",
       "Q17_4  0.165563  0.610388  0.086323\n",
       "Q17_5  0.128589  0.604916  0.065546\n",
       "Q17_6  0.115006  0.688871  0.124677\n",
       "Q17_7  0.082663  0.736568  0.085791"
      ]
     },
     "execution_count": 43,
     "metadata": {},
     "output_type": "execute_result"
    }
   ],
   "source": [
    "fa = FactorAnalyzer(n_factors=3, rotation=\"varimax\") \n",
    "fa.fit(data3)\n",
    "efa_result= pd.DataFrame(fa.loadings_, index=data3.columns)\n",
    "efa_result"
   ]
  },
  {
   "cell_type": "code",
   "execution_count": 44,
   "id": "58a41272",
   "metadata": {
    "scrolled": true
   },
   "outputs": [
    {
     "data": {
      "text/plain": [
       "<AxesSubplot:>"
      ]
     },
     "execution_count": 44,
     "metadata": {},
     "output_type": "execute_result"
    },
    {
     "data": {
      "image/png": "[encoded data removed]",
      "text/plain": [
       "<Figure size 432x720 with 2 Axes>"
      ]
     },
     "metadata": {
      "needs_background": "light"
     },
     "output_type": "display_data"
    }
   ],
   "source": [
    "plt.figure(figsize=(6,10))\n",
    "sns.heatmap(efa_result, cmap=\"Blues\", annot=True, fmt='.2f')"
   ]
  },
  {
   "cell_type": "markdown",
   "id": "9ae06fc9",
   "metadata": {},
   "source": [
    "- Q16_1~Q16_6이 디지털 사용 역량\n",
    "- Q16_7~Q16_8이 가족과의 관계\n",
    "- Q17_2~Q17_7이 삶의 만족도로 묶이는 것을 확인"
   ]
  }
 ],
 "metadata": {
  "kernelspec": {
   "display_name": "Python 3",
   "language": "python",
   "name": "python3"
  },
  "language_info": {
   "codemirror_mode": {
    "name": "ipython",
    "version": 3
   },
   "file_extension": ".py",
   "mimetype": "text/x-python",
   "name": "python",
   "nbconvert_exporter": "python",
   "pygments_lexer": "ipython3",
   "version": "3.8.11"
  }
 },
 "nbformat": 4,
 "nbformat_minor": 5
}
