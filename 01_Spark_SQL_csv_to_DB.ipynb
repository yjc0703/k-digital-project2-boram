{
 "cells": [
  {
   "cell_type": "markdown",
   "source": [
    "# Spark SQL 을 이용하여 mysql 데이터베이스에 데이터 저장하기"
   ],
   "metadata": {}
  },
  {
   "cell_type": "markdown",
   "source": [
    "### 필요한 라이브러리 임포트"
   ],
   "metadata": {}
  },
  {
   "cell_type": "code",
   "execution_count": 1,
   "source": [
    "from pyspark import SparkConf, SparkContext\r\n",
    "from pyspark.sql import *\r\n",
    "from pyspark.sql.functions import col, lit"
   ],
   "outputs": [],
   "metadata": {}
  },
  {
   "cell_type": "markdown",
   "source": [
    "### SparkContext, SparkSession 생성\n",
    "### mysql 에 접속하기 위해서 connector 관련 설정을 해줘야 한다.\n",
    "\n",
    "스파크가 JVM 위에서 실행되기 때문에   \n",
    "DB 에 접속할 때 자바의 표준 데이터베이스 접속 기술인 JDBC 를 사용하고   \n",
    "자바를 통해서 mysql 에 접속해야 하기 때문에 JDBC 용 mysql connector 를 추가해 줘야 한다.  "
   ],
   "metadata": {}
  },
  {
   "cell_type": "code",
   "execution_count": 2,
   "source": [
    "conf = SparkConf() \\\r\n",
    "    .setMaster('local') \\\r\n",
    "    .setAppName('sql') \\\r\n",
    "    .set(\"spark.driver.extraClassPath\",\"jdbc/mysql-connector-java-5.1.44.jar\")\r\n",
    "sc = SparkContext(conf=conf)\r\n",
    "spark = SparkSession(sc)"
   ],
   "outputs": [],
   "metadata": {}
  },
  {
   "cell_type": "markdown",
   "source": [
    "### DB 접속정보 설정"
   ],
   "metadata": {}
  },
  {
   "cell_type": "code",
   "execution_count": 17,
   "source": [
    "# DB 접속정보 설정\r\n",
    "DB_URL = ''\r\n",
    "DB_USER = ''\r\n",
    "DB_PASS = ''"
   ],
   "outputs": [],
   "metadata": {}
  },
  {
   "cell_type": "markdown",
   "source": [
    "### 데이터가 저장되어있는 csv 파일을 DataFrame 으로 읽어들인다."
   ],
   "metadata": {}
  },
  {
   "cell_type": "code",
   "execution_count": 4,
   "source": [
    "# 옵션 설명\r\n",
    "# inferSchema : 데이터를 기반으로 타입을 유추(기본값 : False)\r\n",
    "# header : 첫번째 행을 컬럼 값으로 사용\r\n",
    "\r\n",
    "df = spark.read.csv(\"data/data.csv\", inferSchema = True, header = True)\r\n",
    "df.show(2)"
   ],
   "outputs": [
    {
     "output_type": "stream",
     "name": "stdout",
     "text": [
      "+---+---+---+----+---+---+----+-----------+-----+-----+-----+-----+-----+-----+-----+-----+-----+------+------+------+------+------+------+------+------+------+------+------+-----+-----+-----+-----+-----+-----+-----+-----+-----+------+------+------+------+------+------+------+------+------+------+------+------+------+------+------+------+------+---+---+-----+-----+----+-----+-----+-----+-----+-----+-----+-----+-----+-----+-----+-----+-----+-----+-----+-----+-----+-----+-----+------+-----+-----+-----+-----+-----+-----+-----+-----+-----+------+-----+-----+-----+-----+-----+-----+-----+-----+-----+------+---+----+----+----+----+---+------+------+------+------+------+---+---+------+------+------+------+------+------+------+------+---+---+----+---+-----+-----+-----+-----+---+-----+-----+-----+-----+-----+---+---------+---------+-------+-------+-------+-------+-------+-----+-----+-----+-----+-----+-----+-------+-------+-----+-----+-----+-----+-----+-----+-----+-----+-----+-----+-----+-----+-----+-----+-----+-----+-----+-----+----+-----+-----+-----+-----+-----+-----+-----+-----+-----+------+---+\n",
      "| ID|DM1|DM2| DM3|DM4|KK1| KK2|         WT|Q1A_1|Q1A_2|Q1A_3|Q1A_4|Q1A_5|Q1A_6|Q1A_7|Q1A_8|Q1A_9|Q1A_10|Q1A_11|Q1A_12|Q1A_13|Q1A_14|Q1A_15|Q1A_16|Q1A_17|Q1A_18|Q1A_19|Q1A_20|Q1B_1|Q1B_2|Q1B_3|Q1B_4|Q1B_5|Q1B_6|Q1B_7|Q1B_8|Q1B_9|Q1B_10|Q1B_11|Q1B_12|Q1B_13|Q1B_14|Q1B_15|Q1B_16|Q1B_17|Q1B_18|Q1B_19|Q1B_20|Q1_1A1|Q1_1A2|Q1_1A3|Q1_1B1|Q1_1B2|Q1_1B3|Q2A|Q2B|Q2_1A|Q2_1B|Q2_2|Q3A_1|Q3A_2|Q3A_3|Q3A_4|Q3A_5|Q3A_6|Q3A_7|Q3A_8|Q3A_9|Q3B_1|Q3B_2|Q3B_3|Q3B_4|Q3B_5|Q3B_6|Q3B_7|Q3B_8|Q3B_9|Q3B_10|Q3C_1|Q3C_2|Q3C_3|Q3C_4|Q3C_5|Q3C_6|Q3C_7|Q3C_8|Q3C_9|Q3C_10|Q3D_1|Q3D_2|Q3D_3|Q3D_4|Q3D_5|Q3D_6|Q3D_7|Q3D_8|Q3D_9|Q3D_10| Q4|Q5A1|Q5A2|Q5B1|Q5B2| Q6|Q6_1_1|Q6_1_2|Q6_1_3|Q6_1_4|Q6_1_5| Q7| Q8|Q8_1_1|Q8_1_2|Q8_1_3|Q8_1_4|Q8_1_5|Q8_1_6|Q8_2_1|Q8_2_2|Q9A|Q9B|Q9_1|Q10|Q10_1|Q10_2|Q11_1|Q11_2|Q12|Q12_1|Q13_1|Q13_2|Q13_3|Q13_4|Q14|Q14_1_1_1|Q14_1_1_2|Q14_1_2|Q14_2_1|Q14_2_2|Q14_3_1|Q14_3_2|Q15A1|Q15A2|Q15A3|Q15B1|Q15B2|Q15B3|Q15_1_1|Q15_1_2|Q16_1|Q16_2|Q16_3|Q16_4|Q16_5|Q16_6|Q16_7|Q16_8|Q16_9|Q17_1|Q17_2|Q17_3|Q17_4|Q17_5|Q17_6|Q17_7|Q18_1|Q18_2| Q19|Q20_1|Q20_2|Q20_3|Q20_4|Q20_5|Q20_6|Q20_7|Q20_8|Q20_9|Q20_10|Q21|\n",
      "+---+---+---+----+---+---+----+-----------+-----+-----+-----+-----+-----+-----+-----+-----+-----+------+------+------+------+------+------+------+------+------+------+------+-----+-----+-----+-----+-----+-----+-----+-----+-----+------+------+------+------+------+------+------+------+------+------+------+------+------+------+------+------+------+---+---+-----+-----+----+-----+-----+-----+-----+-----+-----+-----+-----+-----+-----+-----+-----+-----+-----+-----+-----+-----+-----+------+-----+-----+-----+-----+-----+-----+-----+-----+-----+------+-----+-----+-----+-----+-----+-----+-----+-----+-----+------+---+----+----+----+----+---+------+------+------+------+------+---+---+------+------+------+------+------+------+------+------+---+---+----+---+-----+-----+-----+-----+---+-----+-----+-----+-----+-----+---+---------+---------+-------+-------+-------+-------+-------+-----+-----+-----+-----+-----+-----+-------+-------+-----+-----+-----+-----+-----+-----+-----+-----+-----+-----+-----+-----+-----+-----+-----+-----+-----+-----+----+-----+-----+-----+-----+-----+-----+-----+-----+-----+------+---+\n",
      "|  1|  3|  1|null|  1|  3|null|1581.361297|    1|    1|    1|    1|    1|    0|    0|    1|    0|     1|     0|     0|     1|     1|     1|     0|     1|     0|     1|     1|    4|    5|    5|    5|    4| null| null|    3| null|     5|  null|  null|     4|     5|     3|  null|     4|  null|     5|     2|     4|     2|    17|     8|     3|    19|  9|  3|   70|   30|   2| null| null| null| null| null| null| null| null| null| null| null| null| null| null| null| null| null| null|  null|    2|    3|    3|    3|    2|    1|    2|    2|    3|     2| null| null| null| null| null| null| null| null| null|  null|  3|null|null|null|null|  1|     1|     3|  null|  null|  null|  3|  1|     1|     2|  null|  null|  null|  null|     5|     9|  1|  2|null|  1|    3|    1|    3|    3|  3|    1|    3|    5|    4|    1|  2|     null|     null|   null|      3|      1|   null|   null|    7|    3|    1|    7|    5|    2|   null|   null|    3|    3|    2|    3|    3|    2|    3|    2|    3|    3|    2|    3|    3|    2|    3|    3| null| null|null|    3|    3|    3|    2|    3|    3|    2|    3|    3|     3|  4|\n",
      "|  2|  3|  2|null|  1|  3|null|1506.828478|    1|    1|    1|    1|    1|    0|    0|    1|    1|     0|     0|     0|     1|     1|     1|     0|     1|     1|     1|     1|    4|    3|    5|    3|    4| null| null|    4|    4|  null|  null|  null|     4|     5|     5|  null|     5|     2|     5|     5|     3|    17|    20|     8|    15|    19| 10|  2|   60|   40|   2| null| null| null| null| null| null| null| null| null| null| null| null| null| null| null| null| null| null|  null|    2|    3|    3|    3|    2|    1|    1|    2|    3|     2| null| null| null| null| null| null| null| null| null|  null|  3|null|null|null|null|  2|  null|  null|  null|  null|  null|  3|  1|     1|     2|  null|  null|  null|  null|     2|     6|  1|  2|null|  1|    3|    4|    3|    3|  3|    2|    5|    4|    3|    1|  3|     null|     null|   null|   null|   null|      4|      3|    7|    6|    1|    7|    6|    1|   null|   null|    3|    3|    2|    3|    3|    2|    3|    3|    2|    2|    3|    3|    2|    2|    3|    2| null| null|null|    3|    3|    3|    2|    3|    2|    3|    3|    2|     2|  1|\n",
      "+---+---+---+----+---+---+----+-----------+-----+-----+-----+-----+-----+-----+-----+-----+-----+------+------+------+------+------+------+------+------+------+------+------+-----+-----+-----+-----+-----+-----+-----+-----+-----+------+------+------+------+------+------+------+------+------+------+------+------+------+------+------+------+------+---+---+-----+-----+----+-----+-----+-----+-----+-----+-----+-----+-----+-----+-----+-----+-----+-----+-----+-----+-----+-----+-----+------+-----+-----+-----+-----+-----+-----+-----+-----+-----+------+-----+-----+-----+-----+-----+-----+-----+-----+-----+------+---+----+----+----+----+---+------+------+------+------+------+---+---+------+------+------+------+------+------+------+------+---+---+----+---+-----+-----+-----+-----+---+-----+-----+-----+-----+-----+---+---------+---------+-------+-------+-------+-------+-------+-----+-----+-----+-----+-----+-----+-------+-------+-----+-----+-----+-----+-----+-----+-----+-----+-----+-----+-----+-----+-----+-----+-----+-----+-----+-----+----+-----+-----+-----+-----+-----+-----+-----+-----+-----+------+---+\n",
      "only showing top 2 rows\n",
      "\n"
     ]
    }
   ],
   "metadata": {}
  },
  {
   "cell_type": "markdown",
   "source": [
    "### 컬럼 정보 확인"
   ],
   "metadata": {}
  },
  {
   "cell_type": "code",
   "execution_count": 5,
   "source": [
    "df.printSchema"
   ],
   "outputs": [
    {
     "output_type": "execute_result",
     "data": {
      "text/plain": [
       "<bound method DataFrame.printSchema of DataFrame[ID: int, DM1: int, DM2: int, DM3: int, DM4: int, KK1: int, KK2: int, WT: double, Q1A_1: int, Q1A_2: int, Q1A_3: int, Q1A_4: int, Q1A_5: int, Q1A_6: int, Q1A_7: int, Q1A_8: int, Q1A_9: int, Q1A_10: int, Q1A_11: int, Q1A_12: int, Q1A_13: int, Q1A_14: int, Q1A_15: int, Q1A_16: int, Q1A_17: int, Q1A_18: int, Q1A_19: int, Q1A_20: int, Q1B_1: int, Q1B_2: int, Q1B_3: int, Q1B_4: int, Q1B_5: int, Q1B_6: int, Q1B_7: int, Q1B_8: int, Q1B_9: int, Q1B_10: int, Q1B_11: int, Q1B_12: int, Q1B_13: int, Q1B_14: int, Q1B_15: int, Q1B_16: int, Q1B_17: int, Q1B_18: int, Q1B_19: int, Q1B_20: int, Q1_1A1: int, Q1_1A2: int, Q1_1A3: int, Q1_1B1: int, Q1_1B2: int, Q1_1B3: int, Q2A: int, Q2B: int, Q2_1A: int, Q2_1B: int, Q2_2: int, Q3A_1: int, Q3A_2: int, Q3A_3: int, Q3A_4: int, Q3A_5: int, Q3A_6: int, Q3A_7: int, Q3A_8: int, Q3A_9: int, Q3B_1: int, Q3B_2: int, Q3B_3: int, Q3B_4: int, Q3B_5: int, Q3B_6: int, Q3B_7: int, Q3B_8: int, Q3B_9: int, Q3B_10: int, Q3C_1: int, Q3C_2: int, Q3C_3: int, Q3C_4: int, Q3C_5: int, Q3C_6: int, Q3C_7: int, Q3C_8: int, Q3C_9: int, Q3C_10: int, Q3D_1: int, Q3D_2: int, Q3D_3: int, Q3D_4: int, Q3D_5: int, Q3D_6: int, Q3D_7: int, Q3D_8: int, Q3D_9: int, Q3D_10: int, Q4: int, Q5A1: int, Q5A2: int, Q5B1: int, Q5B2: int, Q6: int, Q6_1_1: int, Q6_1_2: int, Q6_1_3: int, Q6_1_4: int, Q6_1_5: int, Q7: int, Q8: int, Q8_1_1: int, Q8_1_2: int, Q8_1_3: int, Q8_1_4: int, Q8_1_5: int, Q8_1_6: int, Q8_2_1: int, Q8_2_2: int, Q9A: int, Q9B: int, Q9_1: int, Q10: int, Q10_1: int, Q10_2: int, Q11_1: int, Q11_2: int, Q12: int, Q12_1: int, Q13_1: int, Q13_2: int, Q13_3: int, Q13_4: int, Q14: int, Q14_1_1_1: int, Q14_1_1_2: int, Q14_1_2: int, Q14_2_1: int, Q14_2_2: int, Q14_3_1: int, Q14_3_2: int, Q15A1: int, Q15A2: int, Q15A3: int, Q15B1: int, Q15B2: int, Q15B3: int, Q15_1_1: int, Q15_1_2: int, Q16_1: int, Q16_2: int, Q16_3: int, Q16_4: int, Q16_5: int, Q16_6: int, Q16_7: int, Q16_8: int, Q16_9: int, Q17_1: int, Q17_2: int, Q17_3: int, Q17_4: int, Q17_5: int, Q17_6: int, Q17_7: int, Q18_1: int, Q18_2: int, Q19: int, Q20_1: int, Q20_2: int, Q20_3: int, Q20_4: int, Q20_5: int, Q20_6: int, Q20_7: int, Q20_8: int, Q20_9: int, Q20_10: int, Q21: int]>"
      ]
     },
     "metadata": {},
     "execution_count": 5
    }
   ],
   "metadata": {}
  },
  {
   "cell_type": "code",
   "execution_count": 6,
   "source": [
    "# DataFrame 타입인 것을 확인\r\n",
    "print(type(df))\r\n",
    "\r\n",
    "# 몇몇 컬럼만 선택한 결과는 새로운 DataFrame 으로 반완됨\r\n",
    "print(type(df.select('ID', 'DM1', 'DM2')))\r\n",
    "\r\n",
    "# 데이터 조회\r\n",
    "df.select('ID', 'DM1', 'DM2').show(5)"
   ],
   "outputs": [
    {
     "output_type": "stream",
     "name": "stdout",
     "text": [
      "<class 'pyspark.sql.dataframe.DataFrame'>\n",
      "<class 'pyspark.sql.dataframe.DataFrame'>\n",
      "+---+---+---+\n",
      "| ID|DM1|DM2|\n",
      "+---+---+---+\n",
      "|  1|  3|  1|\n",
      "|  2|  3|  2|\n",
      "|  3|  2|  1|\n",
      "|  4|  2|  2|\n",
      "|  5|  3|  1|\n",
      "+---+---+---+\n",
      "only showing top 5 rows\n",
      "\n"
     ]
    }
   ],
   "metadata": {}
  },
  {
   "cell_type": "markdown",
   "source": [
    "### 응답자 정보 분리[ID(id), DM1(대상구분), DM2(성별)]"
   ],
   "metadata": {}
  },
  {
   "cell_type": "code",
   "execution_count": 7,
   "source": [
    "df_respondent = df.select('ID', 'DM1', 'DM2')\r\n",
    "df_respondent.show(5)"
   ],
   "outputs": [
    {
     "output_type": "stream",
     "name": "stdout",
     "text": [
      "+---+---+---+\n",
      "| ID|DM1|DM2|\n",
      "+---+---+---+\n",
      "|  1|  3|  1|\n",
      "|  2|  3|  2|\n",
      "|  3|  2|  1|\n",
      "|  4|  2|  2|\n",
      "|  5|  3|  1|\n",
      "+---+---+---+\n",
      "only showing top 5 rows\n",
      "\n"
     ]
    }
   ],
   "metadata": {}
  },
  {
   "cell_type": "code",
   "execution_count": null,
   "source": [
    "### DB 에 저장\r\n",
    "df_respondent \\\r\n",
    "    .write \\\r\n",
    "    .format(\"jdbc\") \\\r\n",
    "    .mode('append') \\\r\n",
    "    .option(\"url\", DB_URL) \\\r\n",
    "    .option(\"dbtable\", \"respondent\") \\\r\n",
    "    .option(\"user\", DB_USER) \\\r\n",
    "    .option(\"password\", DB_PASS) \\\r\n",
    "    .save()"
   ],
   "outputs": [],
   "metadata": {}
  },
  {
   "cell_type": "markdown",
   "source": [
    "### 최진영님 정보 분리[ID(id), Q1A_1 ~ 20, Q4]"
   ],
   "metadata": {}
  },
  {
   "cell_type": "code",
   "execution_count": 18,
   "source": [
    "columns = ['ID'] + ['Q1A_' + str(i) for i in range(1, 21)] + ['Q4']\r\n",
    "df_cjy = df.select(columns)\r\n",
    "df_cjy.show(5)"
   ],
   "outputs": [
    {
     "output_type": "stream",
     "name": "stdout",
     "text": [
      "+---+-----+-----+-----+-----+-----+-----+-----+-----+-----+------+------+------+------+------+------+------+------+------+------+------+---+\n",
      "| ID|Q1A_1|Q1A_2|Q1A_3|Q1A_4|Q1A_5|Q1A_6|Q1A_7|Q1A_8|Q1A_9|Q1A_10|Q1A_11|Q1A_12|Q1A_13|Q1A_14|Q1A_15|Q1A_16|Q1A_17|Q1A_18|Q1A_19|Q1A_20| Q4|\n",
      "+---+-----+-----+-----+-----+-----+-----+-----+-----+-----+------+------+------+------+------+------+------+------+------+------+------+---+\n",
      "|  1|    1|    1|    1|    1|    1|    0|    0|    1|    0|     1|     0|     0|     1|     1|     1|     0|     1|     0|     1|     1|  3|\n",
      "|  2|    1|    1|    1|    1|    1|    0|    0|    1|    1|     0|     0|     0|     1|     1|     1|     0|     1|     1|     1|     1|  3|\n",
      "|  3|    1|    1|    1|    1|    1|    1|    0|    1|    0|     0|     0|     0|     1|     1|     1|     0|     0|     0|     0|     1|  3|\n",
      "|  4|    1|    1|    1|    1|    1|    0|    0|    1|    0|     0|     0|     0|     1|     1|     1|     1|     1|     1|     1|     1|  3|\n",
      "|  5|    1|    1|    1|    1|    1|    0|    0|    1|    0|     0|     0|     0|     1|     1|     1|     0|     1|     1|     1|     1|  3|\n",
      "+---+-----+-----+-----+-----+-----+-----+-----+-----+-----+------+------+------+------+------+------+------+------+------+------+------+---+\n",
      "only showing top 5 rows\n",
      "\n"
     ]
    }
   ],
   "metadata": {}
  },
  {
   "cell_type": "code",
   "execution_count": 20,
   "source": [
    "### DB 에 저장\r\n",
    "df_cjy \\\r\n",
    "    .write \\\r\n",
    "    .format(\"jdbc\") \\\r\n",
    "    .mode('append') \\\r\n",
    "    .option(\"url\", DB_URL) \\\r\n",
    "    .option(\"dbtable\", \"response_cjy\") \\\r\n",
    "    .option(\"user\", DB_USER) \\\r\n",
    "    .option(\"password\", DB_PASS) \\\r\n",
    "    .save()"
   ],
   "outputs": [],
   "metadata": {}
  },
  {
   "cell_type": "markdown",
   "source": [
    "### 김아영님 정보 분리[ID(id), Q9A, Q10]"
   ],
   "metadata": {}
  },
  {
   "cell_type": "code",
   "execution_count": 21,
   "source": [
    "df_kay = df.select('ID', 'Q9A', 'Q10')\r\n",
    "df_kay.show(5)"
   ],
   "outputs": [
    {
     "output_type": "stream",
     "name": "stdout",
     "text": [
      "+---+---+---+\n",
      "| ID|Q9A|Q10|\n",
      "+---+---+---+\n",
      "|  1|  1|  1|\n",
      "|  2|  1|  1|\n",
      "|  3|  1|  1|\n",
      "|  4|  1|  1|\n",
      "|  5|  1|  1|\n",
      "+---+---+---+\n",
      "only showing top 5 rows\n",
      "\n"
     ]
    }
   ],
   "metadata": {}
  },
  {
   "cell_type": "code",
   "execution_count": 23,
   "source": [
    "### DB 에 저장\r\n",
    "df_kay \\\r\n",
    "    .write \\\r\n",
    "    .format(\"jdbc\") \\\r\n",
    "    .mode('append') \\\r\n",
    "    .option(\"url\", DB_URL) \\\r\n",
    "    .option(\"dbtable\", \"response_kay\") \\\r\n",
    "    .option(\"user\", DB_USER) \\\r\n",
    "    .option(\"password\", DB_PASS) \\\r\n",
    "    .save()"
   ],
   "outputs": [],
   "metadata": {}
  },
  {
   "cell_type": "markdown",
   "source": [
    "### 김유민님 정보 분리[ID(id), Q8, Q8_1_1~6]"
   ],
   "metadata": {}
  },
  {
   "cell_type": "code",
   "execution_count": 24,
   "source": [
    "columns = ['ID', 'Q8'] + ['Q8_1_' + str(i) for i in range(1, 7)]\r\n",
    "df_kym = df.select(columns)\r\n",
    "df_kym.show(5)"
   ],
   "outputs": [
    {
     "output_type": "stream",
     "name": "stdout",
     "text": [
      "+---+---+------+------+------+------+------+------+\n",
      "| ID| Q8|Q8_1_1|Q8_1_2|Q8_1_3|Q8_1_4|Q8_1_5|Q8_1_6|\n",
      "+---+---+------+------+------+------+------+------+\n",
      "|  1|  1|     1|     2|  null|  null|  null|  null|\n",
      "|  2|  1|     1|     2|  null|  null|  null|  null|\n",
      "|  3|  1|     3|     4|     5|  null|  null|  null|\n",
      "|  4|  1|     2|     3|     4|  null|  null|  null|\n",
      "|  5|  1|     1|     2|  null|  null|  null|  null|\n",
      "+---+---+------+------+------+------+------+------+\n",
      "only showing top 5 rows\n",
      "\n"
     ]
    }
   ],
   "metadata": {}
  },
  {
   "cell_type": "code",
   "execution_count": 25,
   "source": [
    "### DB 에 저장\r\n",
    "df_kym \\\r\n",
    "    .write \\\r\n",
    "    .format(\"jdbc\") \\\r\n",
    "    .mode('append') \\\r\n",
    "    .option(\"url\", DB_URL) \\\r\n",
    "    .option(\"dbtable\", \"response_kym\") \\\r\n",
    "    .option(\"user\", DB_USER) \\\r\n",
    "    .option(\"password\", DB_PASS) \\\r\n",
    "    .save()"
   ],
   "outputs": [],
   "metadata": {}
  },
  {
   "cell_type": "markdown",
   "source": [
    "### 윤재철님 정보 분리[ID(id), Q12, Q12_1]"
   ],
   "metadata": {}
  },
  {
   "cell_type": "code",
   "execution_count": 26,
   "source": [
    "df_yjc = df.select('ID', 'Q12', 'Q12_1')\r\n",
    "df_yjc.show(5)"
   ],
   "outputs": [
    {
     "output_type": "stream",
     "name": "stdout",
     "text": [
      "+---+---+-----+\n",
      "| ID|Q12|Q12_1|\n",
      "+---+---+-----+\n",
      "|  1|  3|    1|\n",
      "|  2|  3|    2|\n",
      "|  3|  3|    1|\n",
      "|  4|  3|    1|\n",
      "|  5|  3|    2|\n",
      "+---+---+-----+\n",
      "only showing top 5 rows\n",
      "\n"
     ]
    }
   ],
   "metadata": {}
  },
  {
   "cell_type": "code",
   "execution_count": 27,
   "source": [
    "### DB 에 저장\r\n",
    "df_yjc \\\r\n",
    "    .write \\\r\n",
    "    .format(\"jdbc\") \\\r\n",
    "    .mode('append') \\\r\n",
    "    .option(\"url\", DB_URL) \\\r\n",
    "    .option(\"dbtable\", \"response_yjc\") \\\r\n",
    "    .option(\"user\", DB_USER) \\\r\n",
    "    .option(\"password\", DB_PASS) \\\r\n",
    "    .save()"
   ],
   "outputs": [],
   "metadata": {}
  },
  {
   "cell_type": "markdown",
   "source": [
    "### 과의존 여부 판단을 위한 학습 데이터 분리\n",
    "\n",
    "- DM1 선택에 따라 타겟 컬럼이 달라진다"
   ],
   "metadata": {}
  },
  {
   "cell_type": "code",
   "execution_count": null,
   "source": [
    "# 유아동은 컬럼이 9번까지 있어서 별도 처리를 해야하기 때문에\r\n",
    "# 10번 컬럼을 임의로 만들어서 None 값으로 넣어준다\r\n",
    "\r\n",
    "### int type에 컬럼 Q3A_10 을 추가하고 데이터는 None 으로 채운다.\r\n",
    "df_fit = df.withColumn('Q3A_10', lit(None).cast('int'))\r\n",
    "\r\n",
    "def insertData(dm1, grp):\r\n",
    "    columns = ['ID']\r\n",
    "    \r\n",
    "    for i in range(1, 11):\r\n",
    "        \r\n",
    "        # col('Q3{}_{}'.format(grp, i)) => 컬럼을 선택\r\n",
    "        # .alias('Q3_{}'.format(i)) => 이름을 변경\r\n",
    "        \r\n",
    "        # dm1 : 1, grp : A 일 때\r\n",
    "        # Q3A_1 ~ Q3A_10 => Q3_1 ~ Q3_10\r\n",
    "\r\n",
    "        column = col('Q3{}_{}'.format(grp, i)).alias('Q3_{}'.format(i))\r\n",
    "        columns = columns + [column]\r\n",
    "    \r\n",
    "    columns = columns + ['KK1']\r\n",
    "    \r\n",
    "    # df_fit.select(columns) : 선언한 컬럼들만 추출\r\n",
    "    # .filter('DM1 == {}'.format(dm1)) : DM1 값이 dm1 인 row 만 필터\r\n",
    "        # pandas dataframe 의 df[df['DM1'] == 1] 과 같다\r\n",
    "    df_questions = df_fit.select(columns).filter('DM1 == {}'.format(dm1))\r\n",
    "    \r\n",
    "    ### DB 에 저장\r\n",
    "    ### mode : append => 테이블에 데이터만 추가하는 옵션\r\n",
    "    df_questions \\\r\n",
    "        .write \\\r\n",
    "        .format(\"jdbc\") \\\r\n",
    "        .mode('append') \\\r\n",
    "        .option(\"url\", DB_URL) \\\r\n",
    "        .option(\"dbtable\", \"response_fit\") \\\r\n",
    "        .option(\"user\", DB_USER) \\\r\n",
    "        .option(\"password\", DB_PASS) \\\r\n",
    "        .save()\r\n",
    "    \r\n",
    "    \r\n",
    "insertData(1, 'A')\r\n",
    "insertData(2, 'B')\r\n",
    "insertData(3, 'C')\r\n",
    "insertData(4, 'D')"
   ],
   "outputs": [],
   "metadata": {}
  },
  {
   "cell_type": "code",
   "execution_count": null,
   "source": [],
   "outputs": [],
   "metadata": {}
  },
  {
   "cell_type": "code",
   "execution_count": null,
   "source": [],
   "outputs": [],
   "metadata": {}
  },
  {
   "cell_type": "code",
   "execution_count": null,
   "source": [],
   "outputs": [],
   "metadata": {}
  }
 ],
 "metadata": {
  "kernelspec": {
   "display_name": "Python 3",
   "language": "python",
   "name": "python3"
  },
  "language_info": {
   "codemirror_mode": {
    "name": "ipython",
    "version": 3
   },
   "file_extension": ".py",
   "mimetype": "text/x-python",
   "name": "python",
   "nbconvert_exporter": "python",
   "pygments_lexer": "ipython3",
   "version": "3.8.11"
  }
 },
 "nbformat": 4,
 "nbformat_minor": 5
}