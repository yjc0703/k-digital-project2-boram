{
 "cells": [
  {
   "cell_type": "markdown",
   "source": [
    "# 과의존 데이터로 분류 학습 정확도 확인"
   ],
   "metadata": {}
  },
  {
   "cell_type": "code",
   "execution_count": 1,
   "source": [
    "import pandas as pd\r\n",
    "import pymysql\r\n",
    "from sklearn.model_selection import train_test_split\r\n",
    "from sklearn.linear_model import LogisticRegression\r\n",
    "from sklearn.metrics import accuracy_score"
   ],
   "outputs": [],
   "metadata": {}
  },
  {
   "cell_type": "markdown",
   "source": [
    "## 테스트는 성인(DM1 == 3) 인 데이터로 진행(양이 가장 많기 때문에)"
   ],
   "metadata": {}
  },
  {
   "cell_type": "markdown",
   "source": [
    "#### DB 접속정보 정의"
   ],
   "metadata": {}
  },
  {
   "cell_type": "code",
   "execution_count": 2,
   "source": [
    "# db 접속정보 설정\r\n",
    "DB_HOST=''\r\n",
    "DB_PORT = ''\r\n",
    "DB_USER = ''\r\n",
    "DB_PASS = ''\r\n",
    "DB_NAME=''"
   ],
   "outputs": [],
   "metadata": {}
  },
  {
   "cell_type": "markdown",
   "source": [
    "#### DB 에서 데이터 조회하여 DataFrame 으로 변환"
   ],
   "metadata": {}
  },
  {
   "cell_type": "code",
   "execution_count": 4,
   "source": [
    "# db 접속\r\n",
    "conn = pymysql.connect(host = DB_HOST, port = DB_PORT, user = DB_USER, passwd = DB_PASS, db = DB_NAME, cursorclass=pymysql.cursors.DictCursor)\r\n",
    "cur = conn.cursor()\r\n",
    "\r\n",
    "sql = \"\"\"\r\n",
    "SELECT b.* \r\n",
    "  FROM respondent a\r\n",
    " INNER JOIN response_fit b on a.ID = b.ID \r\n",
    " WHERE a.DM1 = 3\r\n",
    "\"\"\"\r\n",
    "cur.execute(sql)\r\n",
    "\r\n",
    "result = cur.fetchall()\r\n",
    "df = pd.DataFrame(result)\r\n",
    "\r\n",
    "# db 연결 종료\r\n",
    "conn.commit()    \r\n",
    "conn.close()"
   ],
   "outputs": [],
   "metadata": {}
  },
  {
   "cell_type": "markdown",
   "source": [
    "#### feature 와 label 분리"
   ],
   "metadata": {}
  },
  {
   "cell_type": "code",
   "execution_count": 10,
   "source": [
    "df_y = df['KK1']\r\n",
    "df_X = df.drop(['ID', 'KK1'], axis=1)"
   ],
   "outputs": [],
   "metadata": {}
  },
  {
   "cell_type": "markdown",
   "source": [
    "#### train set 와 test set 분할"
   ],
   "metadata": {}
  },
  {
   "cell_type": "code",
   "execution_count": 14,
   "source": [
    "X_train, X_test, y_train, y_test = train_test_split(df_X.values, df_y.values)"
   ],
   "outputs": [],
   "metadata": {}
  },
  {
   "cell_type": "markdown",
   "source": [
    "#### 정확도 계산결과 확인"
   ],
   "metadata": {}
  },
  {
   "cell_type": "code",
   "execution_count": 15,
   "source": [
    "lr_c = LogisticRegression(max_iter=4000)\r\n",
    "lr_c.fit(X_train, y_train)\r\n",
    "pred = lr_c.predict(X_test)\r\n",
    "accuracy_score(y_test, pred)"
   ],
   "outputs": [
    {
     "output_type": "execute_result",
     "data": {
      "text/plain": [
       "0.9987080103359173"
      ]
     },
     "metadata": {},
     "execution_count": 15
    }
   ],
   "metadata": {}
  },
  {
   "cell_type": "markdown",
   "source": [
    "### 다른 그룹 정확도를 확인하기 위해 함수를 만들어서 처리"
   ],
   "metadata": {}
  },
  {
   "cell_type": "code",
   "execution_count": 16,
   "source": [
    "def accuracy(dm1):\r\n",
    "    \r\n",
    "    # DB 에서 데이터 읽어오기\r\n",
    "    # db 접속\r\n",
    "    conn = pymysql.connect(host = DB_HOST, port = DB_PORT, user = DB_USER, passwd = DB_PASS, db = DB_NAME, cursorclass=pymysql.cursors.DictCursor)\r\n",
    "    cur = conn.cursor()\r\n",
    "\r\n",
    "    sql = \"\"\"\r\n",
    "    SELECT b.* \r\n",
    "      FROM respondent a\r\n",
    "     INNER JOIN response_fit b on a.ID = b.ID \r\n",
    "     WHERE a.DM1 = {}\r\n",
    "    \"\"\".format(dm1)\r\n",
    "    cur.execute(sql)\r\n",
    "\r\n",
    "    result = cur.fetchall()\r\n",
    "    df = pd.DataFrame(result)\r\n",
    "\r\n",
    "    # db 연결 종료\r\n",
    "    conn.commit()    \r\n",
    "    conn.close()\r\n",
    "    \r\n",
    "    # feature 와 label 분리\r\n",
    "    df_y = df['KK1']\r\n",
    "    df_X = df.drop(['ID', 'KK1'], axis=1)\r\n",
    "    \r\n",
    "    # 1그룹의 경우 문항이 9개밖에 없으므로 Q3_10 컬럼 제거해주어야 함\r\n",
    "    if dm1 == 1:\r\n",
    "        df_X = df_X.drop(['Q3_10'], axis=1)\r\n",
    "    \r\n",
    "    # train set, test set 분리\r\n",
    "    X_train, X_test, y_train, y_test = train_test_split(df_X.values, df_y.values)\r\n",
    "    \r\n",
    "    # 정확도 계산결과 확인\r\n",
    "    lr_c = LogisticRegression(max_iter=4000)\r\n",
    "    lr_c.fit(X_train, y_train)\r\n",
    "    pred = lr_c.predict(X_test)\r\n",
    "    score = accuracy_score(y_test, pred)\r\n",
    "    \r\n",
    "    print('{} 그룹 정확도 : {}'.format(dm1, score))\r\n",
    "    "
   ],
   "outputs": [],
   "metadata": {}
  },
  {
   "cell_type": "code",
   "execution_count": 17,
   "source": [
    "accuracy(1)\r\n",
    "accuracy(2)\r\n",
    "accuracy(3)\r\n",
    "accuracy(4)"
   ],
   "outputs": [
    {
     "output_type": "stream",
     "name": "stdout",
     "text": [
      "1 그룹 정확도 : 1.0\n",
      "2 그룹 정확도 : 0.9885433715220949\n",
      "3 그룹 정확도 : 0.9987080103359173\n",
      "4 그룹 정확도 : 0.998003992015968\n"
     ]
    }
   ],
   "metadata": {}
  }
 ],
 "metadata": {
  "interpreter": {
   "hash": "4cb40bd6d0ba0d51e209bd560692bccab20dfa019932398e194b4a96f5caea73"
  },
  "kernelspec": {
   "display_name": "Python 3",
   "language": "python",
   "name": "python3"
  },
  "language_info": {
   "codemirror_mode": {
    "name": "ipython",
    "version": 3
   },
   "file_extension": ".py",
   "mimetype": "text/x-python",
   "name": "python",
   "nbconvert_exporter": "python",
   "pygments_lexer": "ipython3",
   "version": "3.8.11"
  }
 },
 "nbformat": 4,
 "nbformat_minor": 2
}